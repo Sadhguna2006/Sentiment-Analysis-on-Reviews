{
 "cells": [
  {
   "cell_type": "code",
   "execution_count": 2,
   "id": "d89615c1-9575-450f-b8b3-7ee26bcc77c7",
   "metadata": {},
   "outputs": [],
   "source": [
    "import pandas as pd\n",
    "import numpy as np\n",
    "import matplotlib.pyplot as plt\n",
    "import seaborn as sns\n",
    "\n",
    "plt.style.use('ggplot')\n",
    "\n",
    "import nltk"
   ]
  },
  {
   "cell_type": "code",
   "execution_count": 3,
   "id": "0622ea9d-e894-4596-b1c4-707faf135449",
   "metadata": {},
   "outputs": [
    {
     "name": "stdout",
     "output_type": "stream",
     "text": [
      "(100000, 4)\n",
      "(500, 4)\n",
      "   type                                             review label         file\n",
      "0  test  Once again Mr. Costner has dragged out a movie...   neg      0_2.txt\n",
      "1  test  This is an example of why the majority of acti...   neg  10000_4.txt\n",
      "2  test  First of all I hate those moronic rappers, who...   neg  10001_1.txt\n",
      "3  test  Not even the Beatles could write songs everyon...   neg  10002_3.txt\n",
      "4  test  Brass pictures (movies is not a fitting word f...   neg  10003_3.txt\n"
     ]
    }
   ],
   "source": [
    "df = pd.read_csv('/Users/sadhgunasri/Desktop/AI_PROJECT/imdb_master.csv')  # Use the new CSV file\n",
    "print(df.shape)\n",
    "\n",
    "df = df.head(500)\n",
    "print(df.shape)\n",
    "\n",
    "print(df.head())"
   ]
  },
  {
   "cell_type": "code",
   "execution_count": 4,
   "id": "3c303205-cef7-4938-a751-0ba160181610",
   "metadata": {},
   "outputs": [
    {
     "name": "stdout",
     "output_type": "stream",
     "text": [
      "Index(['type', 'review', 'label', 'file'], dtype='object')\n"
     ]
    }
   ],
   "source": [
    "df = pd.read_csv('/Users/sadhgunasri/Desktop/AI_PROJECT/imdb_master.csv')  # Use the new CSV file\n",
    "print(df.columns)\n"
   ]
  },
  {
   "cell_type": "code",
   "execution_count": 5,
   "id": "4b1b6b59-feb6-49c5-95a3-473b65562ff2",
   "metadata": {},
   "outputs": [
    {
     "name": "stdout",
     "output_type": "stream",
     "text": [
      "                                              review  label\n",
      "0  Imagine The Big Chill with a cast of twenty-so...      0\n",
      "1  I'd have to say that I've seen worse Sci Fi Ch...      0\n",
      "2  Director Fabio Barreto got a strange Academy N...      0\n",
      "3  Pretty bad PRC cheapie which I rarely bother t...      0\n",
      "4  This is a very intriguing short movie by David...      1\n",
      "Dataset shape: (50000, 2)\n"
     ]
    }
   ],
   "source": [
    "import pandas as pd\n",
    "\n",
    "# Load the dataset\n",
    "df = pd.read_csv('/Users/sadhgunasri/Desktop/AI_PROJECT/imdb_master.csv')\n",
    "\n",
    "df = df[df['label'].isin(['pos', 'neg'])]\n",
    "\n",
    "label_map = {\"neg\": 0, \"pos\": 1}\n",
    "df[\"label\"] = df[\"label\"].map(label_map)\n",
    "\n",
    "df = df[['review', 'label']]\n",
    "\n",
    "#Remove missing or blank reviews\n",
    "df.dropna(inplace=True)\n",
    "df = df[df['review'].str.strip() != \"\"]\n",
    "\n",
    "df = df.sample(frac=1, random_state=42).reset_index(drop=True)\n",
    "\n",
    "print(df.head())\n",
    "print(f\"Dataset shape: {df.shape}\")\n"
   ]
  },
  {
   "cell_type": "code",
   "execution_count": 6,
   "id": "3e2803d8-9c90-4e91-ac3f-baf2eba14ee5",
   "metadata": {},
   "outputs": [
    {
     "data": {
      "application/vnd.jupyter.widget-view+json": {
       "model_id": "e626da230c8b4e56bb7c7b9361866012",
       "version_major": 2,
       "version_minor": 0
      },
      "text/plain": [
       "Map:   0%|          | 0/50000 [00:00<?, ? examples/s]"
      ]
     },
     "metadata": {},
     "output_type": "display_data"
    },
    {
     "name": "stdout",
     "output_type": "stream",
     "text": [
      "{'labels': tensor(0), 'input_ids': tensor([    0,  2847,  1717,  5471,    42,   693,    34,    10, 32461,    14,\n",
      "        29384,    82,    88,    24,    77,    51,  1717,  5471,   109,    24,\n",
      "            8,    89,    18,    42, 22633,    54,   101,  3905,    69,   198,\n",
      "          734, 22466,  8569, 17220,   463,  1717, 36646,    16,  1717,  5471,\n",
      "           11,   657,    19,    69,     8,    79, 17672,   657,   123,   124,\n",
      "          142,     9,    69,   631,   219,     4,  2647,    69,   631,   219,\n",
      "         2012,  1686,     7,    69,   734, 41685,     9,   734,   405,    95,\n",
      "          161,  3993,   162,    81,     8,    81,     8,    79,  5741,     7,\n",
      "         3993,    24,  2131,  3678,    53,    14,   630,    75,   173,   142,\n",
      "           24,  1717,  5471, 41311,  1072,  2310,  4884, 17516,   116, 12846,\n",
      "          116,   407,    42,   693,  3885,     7,     5,  1275,  1109,  1418,\n",
      "          147,    79,  5916,    62,  6349,    53,   129,     5,   269, 18388,\n",
      "        24832,  1980,  1303,    38,  4443,    51,  6565,     2]), 'attention_mask': tensor([1, 1, 1, 1, 1, 1, 1, 1, 1, 1, 1, 1, 1, 1, 1, 1, 1, 1, 1, 1, 1, 1, 1, 1,\n",
      "        1, 1, 1, 1, 1, 1, 1, 1, 1, 1, 1, 1, 1, 1, 1, 1, 1, 1, 1, 1, 1, 1, 1, 1,\n",
      "        1, 1, 1, 1, 1, 1, 1, 1, 1, 1, 1, 1, 1, 1, 1, 1, 1, 1, 1, 1, 1, 1, 1, 1,\n",
      "        1, 1, 1, 1, 1, 1, 1, 1, 1, 1, 1, 1, 1, 1, 1, 1, 1, 1, 1, 1, 1, 1, 1, 1,\n",
      "        1, 1, 1, 1, 1, 1, 1, 1, 1, 1, 1, 1, 1, 1, 1, 1, 1, 1, 1, 1, 1, 1, 1, 1,\n",
      "        1, 1, 1, 1, 1, 1, 1, 1])}\n"
     ]
    }
   ],
   "source": [
    "from transformers import RobertaTokenizer\n",
    "from datasets import Dataset\n",
    "import torch\n",
    "\n",
    "#Load RoBERTa tokenizer\n",
    "tokenizer = RobertaTokenizer.from_pretrained(\"roberta-base\")\n",
    "\n",
    "dataset = Dataset.from_pandas(df)\n",
    "\n",
    "def tokenize_function(example):\n",
    "    return tokenizer(example[\"review\"], truncation=True, padding=\"max_length\", max_length=128)\n",
    "\n",
    "#Apply tokenizer to dataset\n",
    "tokenized_dataset = dataset.map(tokenize_function, batched=True)\n",
    "\n",
    "tokenized_dataset = tokenized_dataset.rename_column(\"label\", \"labels\")\n",
    "\n",
    "tokenized_dataset.set_format(type=\"torch\", columns=[\"input_ids\", \"attention_mask\", \"labels\"])\n",
    "\n",
    "train_test_split = tokenized_dataset.train_test_split(test_size=0.2)\n",
    "\n",
    "print(train_test_split[\"train\"][0])\n"
   ]
  },
  {
   "cell_type": "code",
   "execution_count": 7,
   "id": "4724950f-aaa3-4d58-87e1-6b8593bbef1a",
   "metadata": {},
   "outputs": [
    {
     "name": "stderr",
     "output_type": "stream",
     "text": [
      "Some weights of RobertaForSequenceClassification were not initialized from the model checkpoint at roberta-base and are newly initialized: ['classifier.dense.bias', 'classifier.dense.weight', 'classifier.out_proj.bias', 'classifier.out_proj.weight']\n",
      "You should probably TRAIN this model on a down-stream task to be able to use it for predictions and inference.\n",
      "/Users/sadhgunasri/myenv/lib/python3.13/site-packages/torch/utils/data/dataloader.py:683: UserWarning: 'pin_memory' argument is set as true but not supported on MPS now, then device pinned memory won't be used.\n",
      "  warnings.warn(warn_msg)\n"
     ]
    },
    {
     "data": {
      "text/html": [
       "\n",
       "    <div>\n",
       "      \n",
       "      <progress value='15000' max='15000' style='width:300px; height:20px; vertical-align: middle;'></progress>\n",
       "      [15000/15000 4:47:00, Epoch 3/3]\n",
       "    </div>\n",
       "    <table border=\"1\" class=\"dataframe\">\n",
       "  <thead>\n",
       " <tr style=\"text-align: left;\">\n",
       "      <th>Epoch</th>\n",
       "      <th>Training Loss</th>\n",
       "      <th>Validation Loss</th>\n",
       "    </tr>\n",
       "  </thead>\n",
       "  <tbody>\n",
       "    <tr>\n",
       "      <td>1</td>\n",
       "      <td>0.338800</td>\n",
       "      <td>0.334463</td>\n",
       "    </tr>\n",
       "    <tr>\n",
       "      <td>2</td>\n",
       "      <td>0.278400</td>\n",
       "      <td>0.411703</td>\n",
       "    </tr>\n",
       "    <tr>\n",
       "      <td>3</td>\n",
       "      <td>0.137500</td>\n",
       "      <td>0.467559</td>\n",
       "    </tr>\n",
       "  </tbody>\n",
       "</table><p>"
      ],
      "text/plain": [
       "<IPython.core.display.HTML object>"
      ]
     },
     "metadata": {},
     "output_type": "display_data"
    },
    {
     "name": "stderr",
     "output_type": "stream",
     "text": [
      "/Users/sadhgunasri/myenv/lib/python3.13/site-packages/torch/utils/data/dataloader.py:683: UserWarning: 'pin_memory' argument is set as true but not supported on MPS now, then device pinned memory won't be used.\n",
      "  warnings.warn(warn_msg)\n",
      "/Users/sadhgunasri/myenv/lib/python3.13/site-packages/torch/utils/data/dataloader.py:683: UserWarning: 'pin_memory' argument is set as true but not supported on MPS now, then device pinned memory won't be used.\n",
      "  warnings.warn(warn_msg)\n"
     ]
    },
    {
     "data": {
      "text/plain": [
       "TrainOutput(global_step=15000, training_loss=0.2635307947794596, metrics={'train_runtime': 17226.5695, 'train_samples_per_second': 6.966, 'train_steps_per_second': 0.871, 'total_flos': 7893331660800000.0, 'train_loss': 0.2635307947794596, 'epoch': 3.0})"
      ]
     },
     "execution_count": 7,
     "metadata": {},
     "output_type": "execute_result"
    }
   ],
   "source": [
    "from transformers import RobertaForSequenceClassification, TrainingArguments, Trainer\n",
    "\n",
    "model = RobertaForSequenceClassification.from_pretrained(\"roberta-base\", num_labels=2)\n",
    "\n",
    "training_args = TrainingArguments(\n",
    "    output_dir=\"./results\",\n",
    "    eval_strategy=\"epoch\",  # Corrected: Changed from evaluation_strategy to eval_strategy\n",
    "    learning_rate=2e-5,\n",
    "    per_device_train_batch_size=8,\n",
    "    per_device_eval_batch_size=8,\n",
    "    num_train_epochs=3,\n",
    "    weight_decay=0.01,\n",
    "    save_strategy=\"epoch\",\n",
    "    logging_dir=\"./logs\",\n",
    "    load_best_model_at_end=True\n",
    ")\n",
    "\n",
    "trainer = Trainer(\n",
    "    model=model,\n",
    "    args=training_args,\n",
    "    train_dataset=train_test_split[\"train\"], # Assuming train_test_split is defined elsewhere\n",
    "    eval_dataset=train_test_split[\"test\"],   # Assuming train_test_split is defined elsewhere\n",
    ")\n",
    "\n",
    "#start training\n",
    "trainer.train()"
   ]
  },
  {
   "cell_type": "code",
   "execution_count": 10,
   "id": "b7c79dfd-7ff5-46ed-a3c9-db8087573d99",
   "metadata": {},
   "outputs": [
    {
     "data": {
      "text/plain": [
       "('sentiment_model_roberta/tokenizer_config.json',\n",
       " 'sentiment_model_roberta/special_tokens_map.json',\n",
       " 'sentiment_model_roberta/vocab.json',\n",
       " 'sentiment_model_roberta/merges.txt',\n",
       " 'sentiment_model_roberta/added_tokens.json',\n",
       " 'sentiment_model_roberta/tokenizer.json')"
      ]
     },
     "execution_count": 10,
     "metadata": {},
     "output_type": "execute_result"
    }
   ],
   "source": [
    "from transformers import RobertaTokenizerFast\n",
    "\n",
    "# save with model\n",
    "tokenizer = RobertaTokenizerFast.from_pretrained(\"roberta-base\")\n",
    "tokenizer.save_pretrained(\"sentiment_model_roberta\")  # save with model\n"
   ]
  },
  {
   "cell_type": "code",
   "execution_count": 1,
   "id": "0df8e6d4-e392-485f-a6ff-99095aa9bf47",
   "metadata": {},
   "outputs": [
    {
     "name": "stderr",
     "output_type": "stream",
     "text": [
      "Device set to use mps:0\n"
     ]
    },
    {
     "name": "stdout",
     "output_type": "stream",
     "text": [
      "Text: I love this product!\n",
      "Predicted Sentiment: Positive (Confidence: 0.99)\n",
      "\n",
      "Text: I watched a english movie that was horrible\n",
      "Predicted Sentiment: Negative (Confidence: 0.99)\n",
      "\n"
     ]
    }
   ],
   "source": [
    "from transformers import pipeline\n",
    "\n",
    "model = pipeline(\"sentiment-analysis\", model=\"sentiment_model_roberta\")\n",
    "\n",
    "label_map = {\n",
    "    \"LABEL_0\": \"Negative\",\n",
    "    \"LABEL_1\": \"Positive\"\n",
    "}\n",
    "\n",
    "texts = [\n",
    "    \"I love this product!\",\n",
    "    \"I watched a english movie that was horrible\"\n",
    "]\n",
    "\n",
    "for text in texts:\n",
    "    result = model(text)[0]  # Get the first (and only) prediction\n",
    "    label = label_map.get(result['label'], result['label'])  # Map label if possible\n",
    "    print(f\"Text: {text}\")\n",
    "    print(f\"Predicted Sentiment: {label} (Confidence: {result['score']:.2f})\\n\")\n"
   ]
  },
  {
   "cell_type": "code",
   "execution_count": 2,
   "id": "17c1ee29-c33e-4e06-bd1e-9b40dd5291a4",
   "metadata": {},
   "outputs": [
    {
     "name": "stderr",
     "output_type": "stream",
     "text": [
      "Device set to use mps:0\n"
     ]
    },
    {
     "name": "stdout",
     "output_type": "stream",
     "text": [
      "Accuracy: 0.6667\n",
      "\n",
      "Classification Report:\n",
      "              precision    recall  f1-score   support\n",
      "\n",
      "    Negative       0.50      1.00      0.67         1\n",
      "    Positive       1.00      0.50      0.67         2\n",
      "\n",
      "    accuracy                           0.67         3\n",
      "   macro avg       0.75      0.75      0.67         3\n",
      "weighted avg       0.83      0.67      0.67         3\n",
      "\n"
     ]
    },
    {
     "data": {
      "image/png": "[encoded data removed]",
      "text/plain": [
       "<Figure size 500x400 with 2 Axes>"
      ]
     },
     "metadata": {},
     "output_type": "display_data"
    }
   ],
   "source": [
    "#training and testing accuracy results\n",
    "from transformers import pipeline\n",
    "from sklearn.metrics import accuracy_score, classification_report, confusion_matrix\n",
    "import matplotlib.pyplot as plt\n",
    "import seaborn as sns\n",
    "\n",
    "model = pipeline(\"sentiment-analysis\", model=\"sentiment_model_roberta\")\n",
    "\n",
    "test_texts = [\n",
    "    \"I love this product!\",            # Expected Positive → 1\n",
    "    \"This is the worst experience.\",   # Expected Negative → 0\n",
    "    \"It was okay, not too bad.\"        # Expected Positive → 1 (if only binary)\n",
    "]\n",
    "\n",
    "true_labels = [1, 0, 1]  # Replace with actual labels for your samples\n",
    "\n",
    "preds = model(test_texts)\n",
    "\n",
    "pred_labels = [1 if p['label'] == 'LABEL_1' else 0 for p in preds]\n",
    "\n",
    "accuracy = accuracy_score(true_labels, pred_labels)\n",
    "print(f\"Accuracy: {accuracy:.4f}\")\n",
    "\n",
    "print(\"\\nClassification Report:\")\n",
    "print(classification_report(true_labels, pred_labels, target_names=[\"Negative\", \"Positive\"]))\n",
    "\n",
    "cm = confusion_matrix(true_labels, pred_labels)\n",
    "plt.figure(figsize=(5, 4))\n",
    "sns.heatmap(cm, annot=True, fmt=\"d\", cmap=\"Blues\", xticklabels=[\"Negative\", \"Positive\"], yticklabels=[\"Negative\", \"Positive\"])\n",
    "plt.xlabel(\"Predicted\")\n",
    "plt.ylabel(\"Actual\")\n",
    "plt.title(\"Confusion Matrix\")\n",
    "plt.show()\n"
   ]
  },
  {
   "cell_type": "code",
   "execution_count": null,
   "id": "0f864bae-2625-4da4-9c69-815f5a9cabc5",
   "metadata": {},
   "outputs": [],
   "source": []
  }
 ],
 "metadata": {
  "kernelspec": {
   "display_name": "Python (myenv)",
   "language": "python",
   "name": "myenv"
  },
  "language_info": {
   "codemirror_mode": {
    "name": "ipython",
    "version": 3
   },
   "file_extension": ".py",
   "mimetype": "text/x-python",
   "name": "python",
   "nbconvert_exporter": "python",
   "pygments_lexer": "ipython3",
   "version": "3.13.3"
  }
 },
 "nbformat": 4,
 "nbformat_minor": 5
}
